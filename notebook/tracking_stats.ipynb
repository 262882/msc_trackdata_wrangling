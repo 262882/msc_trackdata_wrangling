{
 "cells": [
  {
   "cell_type": "code",
   "execution_count": 26,
   "id": "67ed28dc",
   "metadata": {},
   "outputs": [],
   "source": [
    "import json\n",
    "import numpy as np\n",
    "import os\n",
    "import glob\n",
    "from matplotlib import pyplot as plt"
   ]
  },
  {
   "attachments": {},
   "cell_type": "markdown",
   "id": "dc79309e",
   "metadata": {},
   "source": [
    "## Read dataset"
   ]
  },
  {
   "cell_type": "code",
   "execution_count": 27,
   "id": "9989312b",
   "metadata": {},
   "outputs": [],
   "source": [
    "data_list = glob.glob(os.path.join('../tracking_dataset_v01-01/', \"*.json\"))"
   ]
  },
  {
   "cell_type": "code",
   "execution_count": 28,
   "id": "26aa1f86",
   "metadata": {},
   "outputs": [],
   "source": [
    "kick_list = []\n",
    "for data_item in data_list:\n",
    "\n",
    "    with open(data_item, 'r') as input_file:\n",
    "        track_dict = json.load(input_file)\n",
    "\n",
    "    start_time = track_dict['0']['time']\n",
    "    start_pos = track_dict['0']['gt_ball_global']\n",
    "    kick_data = np.array([[start_time,*start_pos]])\n",
    "\n",
    "    for step in list(track_dict.values())[1:]:\n",
    "        kick_data = np.concatenate([kick_data, np.asarray([[step['time'],*step['gt_ball_global']]])], axis=0)\n",
    "\n",
    "    kick_data = kick_data-kick_data[0]\n",
    "    kick_list.append(kick_data)"
   ]
  },
  {
   "cell_type": "code",
   "execution_count": 36,
   "id": "d42a4fca",
   "metadata": {},
   "outputs": [
    {
     "data": {
      "text/plain": [
       "array([[0.  , 0.  , 0.  , 0.  ],\n",
       "       [0.02, 0.  , 0.  , 0.  ],\n",
       "       [0.04, 0.  , 0.  , 0.  ],\n",
       "       ...,\n",
       "       [6.  , 6.26, 2.84, 0.  ],\n",
       "       [6.02, 6.26, 2.84, 0.  ],\n",
       "       [6.04, 6.26, 2.84, 0.  ]])"
      ]
     },
     "execution_count": 36,
     "metadata": {},
     "output_type": "execute_result"
    }
   ],
   "source": [
    "kick_list[0]"
   ]
  },
  {
   "cell_type": "code",
   "execution_count": 41,
   "id": "7c42b53b",
   "metadata": {},
   "outputs": [],
   "source": [
    "kick_heights = []\n",
    "kick_dists = []\n",
    "for kick in kick_list:\n",
    "    kick_heights.append(np.max(kick[...,-1]))\n",
    "    kick_dists.append(np.linalg.norm([kick_list[0][-1,1], kick_list[0][-1,1]], axis=0))\n",
    "kick_heights = np.array(kick_heights)\n",
    "kick_dists = np.array(kick_dists)"
   ]
  },
  {
   "cell_type": "code",
   "execution_count": 44,
   "id": "ccbfa2f4",
   "metadata": {},
   "outputs": [
    {
     "ename": "NameError",
     "evalue": "name 'ball_x' is not defined",
     "output_type": "error",
     "traceback": [
      "\u001b[0;31m---------------------------------------------------------------------------\u001b[0m",
      "\u001b[0;31mNameError\u001b[0m                                 Traceback (most recent call last)",
      "Cell \u001b[0;32mIn[44], line 13\u001b[0m\n\u001b[1;32m     11\u001b[0m ax[\u001b[39m1\u001b[39m]\u001b[39m.\u001b[39mset_title(\u001b[39m\"\u001b[39m\u001b[39mBall Final Distance\u001b[39m\u001b[39m\"\u001b[39m)\n\u001b[1;32m     12\u001b[0m min_ylim, max_ylim \u001b[39m=\u001b[39m ax[\u001b[39m1\u001b[39m]\u001b[39m.\u001b[39maxis()[\u001b[39m-\u001b[39m\u001b[39m2\u001b[39m:]\n\u001b[0;32m---> 13\u001b[0m ax[\u001b[39m1\u001b[39m]\u001b[39m.\u001b[39mtext(ball_x\u001b[39m.\u001b[39mmean()\u001b[39m*\u001b[39m\u001b[39m1.1\u001b[39m, max_ylim\u001b[39m*\u001b[39m\u001b[39m0.9\u001b[39m, \u001b[39m'\u001b[39m\u001b[39mMean: \u001b[39m\u001b[39m{:.2f}\u001b[39;00m\u001b[39m'\u001b[39m\u001b[39m.\u001b[39mformat(ball_x\u001b[39m.\u001b[39mmean()))\n\u001b[1;32m     14\u001b[0m \u001b[39m\"\"\"\u001b[39;00m\n\u001b[1;32m     15\u001b[0m \u001b[39mball_y = np.array(ball_y)\u001b[39;00m\n\u001b[1;32m     16\u001b[0m \u001b[39max[2].hist(ball_y, bins=180)\u001b[39;00m\n\u001b[0;32m   (...)\u001b[0m\n\u001b[1;32m     19\u001b[0m \u001b[39max[2].text(ball_y.mean()*1.1, max_ylim*0.9, 'Mean: {:.2f}'.format(ball_y.mean()))\u001b[39;00m\n\u001b[1;32m     20\u001b[0m \u001b[39m\"\"\"\u001b[39;00m\n\u001b[1;32m     22\u001b[0m plt\u001b[39m.\u001b[39mshow()\n",
      "\u001b[0;31mNameError\u001b[0m: name 'ball_x' is not defined"
     ]
    },
    {
     "data": {
      "image/png": "[encoded data removed]",
      "text/plain": [
       "<Figure size 1200x400 with 3 Axes>"
      ]
     },
     "metadata": {},
     "output_type": "display_data"
    }
   ],
   "source": [
    "fig,axes = plt.subplots(nrows=1, ncols=3, figsize=(12,4), sharey=True)\n",
    "ax=axes.ravel()\n",
    "\n",
    "ax[0].hist(kick_heights, bins=20)\n",
    "ax[0].set_title(\"Kick peak height (m)\")\n",
    "min_ylim, max_ylim = ax[0].axis()[-2:]\n",
    "ax[0].axvline(kick_heights.mean(), color='k', linestyle='dashed', linewidth=1.5)\n",
    "ax[0].text(kick_heights.mean()*1.1, max_ylim*0.9, 'Mean: {:.2f}'.format(kick_heights.mean()))\n",
    "\n",
    "ax[1].hist(kick_dists, bins=180)\n",
    "ax[1].set_title(\"Ball Final Distance\")\n",
    "min_ylim, max_ylim = ax[1].axis()[-2:]\n",
    "ax[1].text(ball_x.mean()*1.1, max_ylim*0.9, 'Mean: {:.2f}'.format(ball_x.mean()))\n",
    "\"\"\"\n",
    "ball_y = np.array(ball_y)\n",
    "ax[2].hist(ball_y, bins=180)\n",
    "ax[2].set_title(\"Ball position y\")\n",
    "min_ylim, max_ylim = ax[2].axis()[-2:]\n",
    "ax[2].text(ball_y.mean()*1.1, max_ylim*0.9, 'Mean: {:.2f}'.format(ball_y.mean()))\n",
    "\"\"\"\n",
    "\n",
    "plt.show()"
   ]
  },
  {
   "cell_type": "code",
   "execution_count": null,
   "id": "70a74080",
   "metadata": {},
   "outputs": [],
   "source": []
  }
 ],
 "metadata": {
  "kernelspec": {
   "display_name": "Python 3 (ipykernel)",
   "language": "python",
   "name": "python3"
  },
  "language_info": {
   "codemirror_mode": {
    "name": "ipython",
    "version": 3
   },
   "file_extension": ".py",
   "mimetype": "text/x-python",
   "name": "python",
   "nbconvert_exporter": "python",
   "pygments_lexer": "ipython3",
   "version": "3.11.2"
  }
 },
 "nbformat": 4,
 "nbformat_minor": 5
}

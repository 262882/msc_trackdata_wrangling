{
 "cells": [
  {
   "cell_type": "code",
   "execution_count": 1,
   "id": "67ed28dc",
   "metadata": {},
   "outputs": [],
   "source": [
    "import json\n",
    "import numpy as np\n",
    "import os\n",
    "import glob"
   ]
  },
  {
   "attachments": {},
   "cell_type": "markdown",
   "id": "dc79309e",
   "metadata": {},
   "source": [
    "## Read dataset"
   ]
  },
  {
   "cell_type": "code",
   "execution_count": 2,
   "id": "9989312b",
   "metadata": {},
   "outputs": [],
   "source": [
    "data_list = glob.glob(os.path.join('../tracking_dataset_v01-01/', \"*.json\"))"
   ]
  },
  {
   "cell_type": "code",
   "execution_count": 3,
   "id": "26aa1f86",
   "metadata": {},
   "outputs": [],
   "source": [
    "kick_list = []\n",
    "for data_item in data_list:\n",
    "\n",
    "    with open(data_item, 'r') as input_file:\n",
    "        track_dict = json.load(input_file)\n",
    "\n",
    "    start_time = track_dict['0']['time']\n",
    "    start_pos = track_dict['0']['gt_ball_global']\n",
    "    kick_data = np.array([[start_time,*start_pos]])\n",
    "\n",
    "    for step in list(track_dict.values())[1:]:\n",
    "        kick_data = np.concatenate([kick_data, np.asarray([[step['time'],*step['gt_ball_global']]])], axis=0)\n",
    "\n",
    "    kick_data = kick_data-kick_data[0]\n",
    "    kick_list.append(kick_data)"
   ]
  }
 ],
 "metadata": {
  "kernelspec": {
   "display_name": "Python 3 (ipykernel)",
   "language": "python",
   "name": "python3"
  },
  "language_info": {
   "codemirror_mode": {
    "name": "ipython",
    "version": 3
   },
   "file_extension": ".py",
   "mimetype": "text/x-python",
   "name": "python",
   "nbconvert_exporter": "python",
   "pygments_lexer": "ipython3",
   "version": "3.11.2"
  }
 },
 "nbformat": 4,
 "nbformat_minor": 5
}

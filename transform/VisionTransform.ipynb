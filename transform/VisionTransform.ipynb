{
 "cells": [
  {
   "cell_type": "code",
   "execution_count": 1,
   "id": "67ed28dc",
   "metadata": {},
   "outputs": [],
   "source": [
    "import json\n",
    "import numpy as np\n",
    "import sys\n",
    "import os\n",
    "sys.path.append(os.path.join(sys.path[0], '../../msc_visualdata_wrangling/processing/'))\n",
    "from decode import spherical2cartesian"
   ]
  },
  {
   "cell_type": "markdown",
   "id": "dc79309e",
   "metadata": {},
   "source": [
    "## Read dataset"
   ]
  },
  {
   "cell_type": "code",
   "execution_count": 2,
   "id": "9b108a0e",
   "metadata": {},
   "outputs": [],
   "source": [
    "name_step = './testdata/trackkick_348.json'\n",
    "with open(name_step, 'r') as input_file:\n",
    "    step_dict = json.load(input_file)"
   ]
  },
  {
   "cell_type": "code",
   "execution_count": 3,
   "id": "3a05b6fb",
   "metadata": {},
   "outputs": [],
   "source": [
    "name_img = './testdata/outimg_WITS-FC2-348.json'\n",
    "with open(name_img, 'r') as input_file:\n",
    "    img_dict = json.load(input_file)"
   ]
  },
  {
   "attachments": {},
   "cell_type": "markdown",
   "id": "e6ebc120",
   "metadata": {},
   "source": [
    "## Convert to cartesian coords"
   ]
  },
  {
   "cell_type": "code",
   "execution_count": 4,
   "id": "d4e84a65",
   "metadata": {},
   "outputs": [],
   "source": [
    "if img_dict['ball_sighted'] == 1:\n",
    "    coords_spher_cam = np.array(img_dict['ball_locate'])\n",
    "    coords_cart_cam = spherical2cartesian(*coords_spher_cam)  # Unpack iterable using *\n",
    "    coords_local = (np.array(step_dict['mat_cam2local'])@np.append(coords_cart_cam, 1))[:-1]\n",
    "    coords_global = (np.array(step_dict['mat_l2g'])@np.append(coords_local, 1))[:-1]\n"
   ]
  },
  {
   "cell_type": "code",
   "execution_count": 5,
   "id": "e4d91920",
   "metadata": {},
   "outputs": [
    {
     "name": "stdout",
     "output_type": "stream",
     "text": [
      "Agent local: [-0.0139643, -0.0612834, -0.36259]\n",
      "Self local [-0.013964   -0.06128357 -0.36258992]\n",
      "\n",
      "Agent global: [6.75892, 1.09813, -0.00622807]\n",
      "Self global [ 6.75891678e+00  1.09813055e+00 -6.22791763e-03]\n"
     ]
    }
   ],
   "source": [
    "print(\"Agent local:\", step_dict['see_ball_local'])\n",
    "print(\"Self local\", coords_local)\n",
    "print(\"\")\n",
    "print(\"Agent global:\", step_dict['see_ball_global'])\n",
    "print(\"Self global\", coords_global)"
   ]
  }
 ],
 "metadata": {
  "kernelspec": {
   "display_name": "Python 3 (ipykernel)",
   "language": "python",
   "name": "python3"
  },
  "language_info": {
   "codemirror_mode": {
    "name": "ipython",
    "version": 3
   },
   "file_extension": ".py",
   "mimetype": "text/x-python",
   "name": "python",
   "nbconvert_exporter": "python",
   "pygments_lexer": "ipython3",
   "version": "3.10.10"
  }
 },
 "nbformat": 4,
 "nbformat_minor": 5
}
